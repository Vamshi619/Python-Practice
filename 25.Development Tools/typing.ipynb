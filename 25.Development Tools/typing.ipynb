{
 "cells": [
  {
   "cell_type": "markdown",
   "id": "3bcae3e8",
   "metadata": {},
   "source": [
    "A Typing is a mathematical model that assigns shape to the data\n",
    "\n",
    "Example 5 has shape int , \"Hello\" has shape str"
   ]
  },
  {
   "cell_type": "markdown",
   "id": "62aed512",
   "metadata": {},
   "source": [
    "The typing module adds a static type system on otop of python for humans and tools."
   ]
  },
  {
   "cell_type": "markdown",
   "id": "99d1f893",
   "metadata": {},
   "source": [
    "**1.Basic Type hints**"
   ]
  },
  {
   "cell_type": "code",
   "execution_count": 1,
   "id": "8db95d0f",
   "metadata": {},
   "outputs": [
    {
     "name": "stdout",
     "output_type": "stream",
     "text": [
      "25\n"
     ]
    }
   ],
   "source": [
    "#x:int= parameter must be an integer\n",
    "#x:int -> int means the function returns an integer\n",
    "def square(x: int) -> int:\n",
    "    return x * x\n",
    "\n",
    "print(square(5))  # Output: 25"
   ]
  },
  {
   "cell_type": "markdown",
   "id": "73cdb112",
   "metadata": {},
   "source": [
    "**2. Type aliases**\n"
   ]
  },
  {
   "cell_type": "markdown",
   "id": "05089672",
   "metadata": {},
   "source": [
    "Its like naming a complex type and reusing it everywhere when we need it."
   ]
  },
  {
   "cell_type": "markdown",
   "id": "0bc8febb",
   "metadata": {},
   "source": [
    "Lets consider an example with and without type aliases."
   ]
  },
  {
   "cell_type": "markdown",
   "id": "c240459b",
   "metadata": {},
   "source": [
    "without Type Aliases:"
   ]
  },
  {
   "cell_type": "code",
   "execution_count": 6,
   "id": "82444c00",
   "metadata": {},
   "outputs": [
    {
     "name": "stdout",
     "output_type": "stream",
     "text": [
      "Storing user: (1, 'Vamshi', [('laptop', 1000), ('phone', 500)])\n"
     ]
    }
   ],
   "source": [
    "# Lets creae a function to store user information\n",
    "def store_user(user:tuple[int,str,list[tuple[str,int]]])->None:\n",
    "    \"\"\"\n",
    "    user(\n",
    "        user_id:int,\n",
    "        user_name:str,\n",
    "        purchases:list(purchase_name:str,price:int)\n",
    "    )\n",
    "    \"\"\"\n",
    "    print(\"Storing user:\",user)\n",
    "\n",
    "store_user((1,\"Vamshi\",[(\"laptop\",1000),(\"phone\",500)]))"
   ]
  },
  {
   "cell_type": "markdown",
   "id": "f6eb3701",
   "metadata": {},
   "source": [
    "with Type aliases"
   ]
  },
  {
   "cell_type": "code",
   "execution_count": 8,
   "id": "b9d60fe5",
   "metadata": {},
   "outputs": [
    {
     "name": "stdout",
     "output_type": "stream",
     "text": [
      "Storing user: (1, 'Vamshi', [('laptop', 1000), ('phone', 500)])\n",
      "Storing user: (2, 'Moon', [('book', 20), ('pen', 5)])\n"
     ]
    }
   ],
   "source": [
    "type UserID=int\n",
    "type UserName=str\n",
    "type Purchase=tuple[str,int]\n",
    "type Purchases=list[Purchase]\n",
    "type User=tuple[UserID,UserName,Purchases]\n",
    "\n",
    "def store_user(user:User)->None:\n",
    "    print(\"Storing user:\",user)\n",
    "\n",
    "u1:User=(1,\"Vamshi\",[(\"laptop\",1000),(\"phone\",500)])\n",
    "store_user(u1)\n",
    "u2:User=(2,\"Moon\",[(\"book\",20),(\"pen\",5)])\n",
    "store_user(u2)"
   ]
  },
  {
   "cell_type": "markdown",
   "id": "d48f2b63",
   "metadata": {},
   "source": [
    "**New Type (Distinguishing logically different types)**"
   ]
  },
  {
   "cell_type": "code",
   "execution_count": 9,
   "id": "8858066f",
   "metadata": {},
   "outputs": [
    {
     "name": "stdout",
     "output_type": "stream",
     "text": [
      "User1101\n",
      "Product1102\n",
      "User1102\n",
      "Product1101\n"
     ]
    }
   ],
   "source": [
    "def get_user(user_id:int)->str:\n",
    "    return f\"User{user_id}\"\n",
    "\n",
    "def product_id(product_id:int)->str:\n",
    "    return f\"Product{product_id}\"\n",
    "\n",
    "print(get_user(1101))\n",
    "print(product_id(1102))\n",
    "print(get_user(1102)) # Logical error, but no type error\n",
    "print(product_id(1101)) # Logical error, but no type error"
   ]
  },
  {
   "cell_type": "markdown",
   "id": "33697523",
   "metadata": {},
   "source": [
    "by this even though we passed int , we might passed product id inplace of user id"
   ]
  },
  {
   "cell_type": "code",
   "execution_count": 10,
   "id": "06c26058",
   "metadata": {},
   "outputs": [
    {
     "name": "stdout",
     "output_type": "stream",
     "text": [
      "User1101\n",
      "Product1102\n"
     ]
    }
   ],
   "source": [
    "from typing import NewType\n",
    "\n",
    "UserID=NewType(\"UserID\",int)\n",
    "ProductID=NewType(\"ProductID\",int)\n",
    "\n",
    "def get_user(user_id:UserID)->str:\n",
    "    return f\"User{user_id}\"\n",
    "\n",
    "def product_id(product_id:ProductID)->str:\n",
    "    return f\"Product{product_id}\"\n",
    "\n",
    "u:UserID=UserID(1101)\n",
    "p:ProductID=ProductID(1102)\n",
    "\n",
    "print(get_user(u))\n",
    "print(product_id(p))\n",
    "#print(get_user(p)) # Type error\n",
    "#print(product_id(u)) # Type error"
   ]
  },
  {
   "cell_type": "markdown",
   "id": "eb973e07",
   "metadata": {},
   "source": [
    "**callable (functions as first class citizens)**"
   ]
  },
  {
   "cell_type": "markdown",
   "id": "cf5b6f9a",
   "metadata": {},
   "source": [
    "without callable"
   ]
  },
  {
   "cell_type": "markdown",
   "id": "538583da",
   "metadata": {},
   "source": [
    "without callable a function can take any function and just return output without even checking anything\n"
   ]
  },
  {
   "cell_type": "code",
   "execution_count": 13,
   "id": "067b58f7",
   "metadata": {},
   "outputs": [
    {
     "name": "stdout",
     "output_type": "stream",
     "text": [
      "Hell0\n",
      "42\n"
     ]
    }
   ],
   "source": [
    "def feeder(fn):\n",
    "    print(fn())\n",
    "\n",
    "def greet()->str:\n",
    "    return \"Hell0\"\n",
    "\n",
    "def numer()->int:\n",
    "    return 42\n",
    "\n",
    "feeder(greet) # Hell0\n",
    "feeder(numer) # 42"
   ]
  },
  {
   "cell_type": "markdown",
   "id": "dc22d719",
   "metadata": {},
   "source": [
    "There is nothing wrong but with no type checker"
   ]
  },
  {
   "cell_type": "code",
   "execution_count": 18,
   "id": "95389158",
   "metadata": {},
   "outputs": [
    {
     "name": "stdout",
     "output_type": "stream",
     "text": [
      "Hell0\n"
     ]
    }
   ],
   "source": [
    "from collections.abc import Callable\n",
    "\n",
    "# this means function calling another function which takes no parameters and returns a string\n",
    "def feeder(fn:Callable[[],str])->None:\n",
    "    print(fn())\n",
    "\n",
    "def greet()->str:\n",
    "    return \"Hell0\"\n",
    "\n",
    "def number()->int:\n",
    "    return 42\n",
    "\n",
    "feeder(greet) # Hell0\n",
    "#feeder(number) # Type error"
   ]
  },
  {
   "cell_type": "code",
   "execution_count": null,
   "id": "e90406ee",
   "metadata": {},
   "outputs": [
    {
     "name": "stdout",
     "output_type": "stream",
     "text": [
      "2.0\n"
     ]
    }
   ],
   "source": [
    "from collections.abc import Callable\n",
    "\n",
    "#function which takes two integers and a function which takes two integers and returns an integer\n",
    "def apply_op(x:int,y:int,op:Callable[[int,int],int])->int:\n",
    "    return op(x,y)\n",
    "\n",
    "def divide(a:int,b:int)->int:\n",
    "    return a/b\n",
    "\n",
    "def add_str(a:int,b:int)->str:\n",
    "    return f\"{a}+{b}\"\n",
    "\n",
    "print(apply_op(10,5,divide)) # 2.0\n",
    "#print(apply_op(10,5,add_str)) # Type error\n"
   ]
  },
  {
   "cell_type": "markdown",
   "id": "b75c42cf",
   "metadata": {},
   "source": [
    "**Generics and TypeVar**"
   ]
  },
  {
   "cell_type": "code",
   "execution_count": 26,
   "id": "e51c7299",
   "metadata": {},
   "outputs": [
    {
     "name": "stdout",
     "output_type": "stream",
     "text": [
      "1\n",
      "a\n"
     ]
    }
   ],
   "source": [
    "from collections.abc import Sequence\n",
    "\n",
    "def first(seq:Sequence)->object:\n",
    "    return seq[0]\n",
    "\n",
    "print(first([1,2,3])) # 1 #ok but type checker says object\n",
    "print(first([\"a\",\"b\",\"c\"])) # a # ok but again type checker says object"
   ]
  },
  {
   "cell_type": "code",
   "execution_count": 27,
   "id": "f6031d88",
   "metadata": {},
   "outputs": [
    {
     "name": "stdout",
     "output_type": "stream",
     "text": [
      "11\n",
      "A\n"
     ]
    }
   ],
   "source": [
    "from typing import TypeVar\n",
    "from collections.abc import Sequence\n",
    "\n",
    "T = TypeVar(\"T\")   # T = a placeholder type (like algebra variable X)\n",
    "\n",
    "def first(seq: Sequence[T]) -> T:\n",
    "    return seq[0]\n",
    "\n",
    "# Now the type \"flows\" correctly\n",
    "num = first([1, 2, 3])        # num: int\n",
    "word = first([\"a\", \"b\", \"c\"]) # word: str\n",
    "\n",
    "print(num + 10)        # OK, int math\n",
    "print(word.upper())    # OK, str method\n"
   ]
  },
  {
   "cell_type": "markdown",
   "id": "811dc2ed",
   "metadata": {},
   "source": [
    "if input is list[int],return is int\n",
    "\n",
    "if input is list[str], return is str"
   ]
  },
  {
   "cell_type": "markdown",
   "id": "d79a959a",
   "metadata": {},
   "source": [
    "**Tuples**"
   ]
  },
  {
   "cell_type": "markdown",
   "id": "27ba9292",
   "metadata": {},
   "source": [
    "A list in Python is usually homogeneous → all elements are of the same type.\n",
    "Example: list[int] means every element must be an int.\n",
    "\n",
    "A tuple is often heterogeneous → it can contain elements of different types in fixed positions.\n",
    "Example: (1, \"Alice\") → first item is int, second is str."
   ]
  },
  {
   "cell_type": "code",
   "execution_count": 28,
   "id": "e516eff8",
   "metadata": {},
   "outputs": [],
   "source": [
    "from typing import Tuple\n",
    "\n",
    "# Student record: fixed structure\n",
    "Student = tuple[int, str, float]  # (roll_no, name, GPA)\n",
    "\n",
    "s1: Student = (101, \"Alice\", 9.1)   # ✅\n",
    "s2: Student = (102, \"Bob\")          # ❌ Missing GPA\n",
    "s3: Student = (\"Charlie\", 103, 9.1) # ❌ Wrong order\n",
    "\n",
    "# Variadic ints: arbitrary length\n",
    "Scores: tuple[int, ...]\n",
    "Scores = (10, 20, 30)      # ✅\n",
    "Scores = (10, \"oops\", 30)  # ❌ Wrong type\n",
    "\n",
    "# Empty marker\n",
    "nothing: tuple[()] = ()    # ✅\n"
   ]
  },
  {
   "cell_type": "code",
   "execution_count": 29,
   "id": "25537ec6",
   "metadata": {},
   "outputs": [
    {
     "data": {
      "text/plain": [
       "(101, 'Alice', 9.1)"
      ]
     },
     "execution_count": 29,
     "metadata": {},
     "output_type": "execute_result"
    }
   ],
   "source": [
    "s1"
   ]
  },
  {
   "cell_type": "code",
   "execution_count": 30,
   "id": "7411adc6",
   "metadata": {},
   "outputs": [
    {
     "data": {
      "text/plain": [
       "(102, 'Bob')"
      ]
     },
     "execution_count": 30,
     "metadata": {},
     "output_type": "execute_result"
    }
   ],
   "source": [
    "s2"
   ]
  },
  {
   "cell_type": "code",
   "execution_count": 31,
   "id": "020ffcec",
   "metadata": {},
   "outputs": [
    {
     "data": {
      "text/plain": [
       "('Charlie', 103, 9.1)"
      ]
     },
     "execution_count": 31,
     "metadata": {},
     "output_type": "execute_result"
    }
   ],
   "source": [
    "s3"
   ]
  },
  {
   "cell_type": "markdown",
   "id": "06ee3632",
   "metadata": {},
   "source": [
    "**Any vs object**"
   ]
  },
  {
   "cell_type": "markdown",
   "id": "fd99dc8c",
   "metadata": {},
   "source": [
    "Any is like takes any and type checker becomes silent\n",
    "\n",
    "object is strict one checks everything strictly"
   ]
  },
  {
   "cell_type": "code",
   "execution_count": 34,
   "id": "faccbb0f",
   "metadata": {},
   "outputs": [
    {
     "name": "stdout",
     "output_type": "stream",
     "text": [
      "15\n"
     ]
    },
    {
     "ename": "AttributeError",
     "evalue": "'int' object has no attribute 'magic'",
     "output_type": "error",
     "traceback": [
      "\u001b[31m---------------------------------------------------------------------------\u001b[39m",
      "\u001b[31mAttributeError\u001b[39m                            Traceback (most recent call last)",
      "\u001b[36mCell\u001b[39m\u001b[36m \u001b[39m\u001b[32mIn[34]\u001b[39m\u001b[32m, line 9\u001b[39m\n\u001b[32m      6\u001b[39m     x.magic()            \u001b[38;5;66;03m# ✅ type checker ok (even if magic() doesn’t exist)\u001b[39;00m\n\u001b[32m      7\u001b[39m     \u001b[38;5;28mprint\u001b[39m(\u001b[38;5;28mlen\u001b[39m(x))        \u001b[38;5;66;03m# ✅ also ok\u001b[39;00m\n\u001b[32m----> \u001b[39m\u001b[32m9\u001b[39m \u001b[43mfoo\u001b[49m\u001b[43m(\u001b[49m\u001b[32;43m5\u001b[39;49m\u001b[43m)\u001b[49m           \u001b[38;5;66;03m# works\u001b[39;00m\n\u001b[32m     10\u001b[39m foo(\u001b[33m\"\u001b[39m\u001b[33mhello\u001b[39m\u001b[33m\"\u001b[39m)     \u001b[38;5;66;03m# works at runtime for +10? ❌ -> crashes\u001b[39;00m\n",
      "\u001b[36mCell\u001b[39m\u001b[36m \u001b[39m\u001b[32mIn[34]\u001b[39m\u001b[32m, line 6\u001b[39m, in \u001b[36mfoo\u001b[39m\u001b[34m(x)\u001b[39m\n\u001b[32m      3\u001b[39m \u001b[38;5;28;01mdef\u001b[39;00m\u001b[38;5;250m \u001b[39m\u001b[34mfoo\u001b[39m(x: Any) -> \u001b[38;5;28;01mNone\u001b[39;00m:\n\u001b[32m      4\u001b[39m     \u001b[38;5;66;03m# Type checker will allow *anything*\u001b[39;00m\n\u001b[32m      5\u001b[39m     \u001b[38;5;28mprint\u001b[39m(x + \u001b[32m10\u001b[39m)        \u001b[38;5;66;03m# ✅ type checker ok (even if x is str)\u001b[39;00m\n\u001b[32m----> \u001b[39m\u001b[32m6\u001b[39m     \u001b[43mx\u001b[49m\u001b[43m.\u001b[49m\u001b[43mmagic\u001b[49m()            \u001b[38;5;66;03m# ✅ type checker ok (even if magic() doesn’t exist)\u001b[39;00m\n\u001b[32m      7\u001b[39m     \u001b[38;5;28mprint\u001b[39m(\u001b[38;5;28mlen\u001b[39m(x))\n",
      "\u001b[31mAttributeError\u001b[39m: 'int' object has no attribute 'magic'"
     ]
    }
   ],
   "source": [
    "from typing import Any\n",
    "\n",
    "def foo(x: Any) -> None:\n",
    "    # Type checker will allow *anything*\n",
    "    print(x + 10)        # ✅ type checker ok (even if x is str)\n",
    "    x.magic()            # ✅ type checker ok (even if magic() doesn’t exist)\n",
    "    print(len(x))        # ✅ also ok\n",
    "\n",
    "foo(5)           # works\n",
    "foo(\"hello\")     # works at runtime for +10? ❌ -> crashes\n"
   ]
  },
  {
   "cell_type": "code",
   "execution_count": 35,
   "id": "c32327db",
   "metadata": {},
   "outputs": [],
   "source": [
    "def bar(x: object) -> None:\n",
    "    # Type checker forces you to be explicit\n",
    "    # x + 10 ❌ error: unsupported operand\n",
    "    # x.magic() ❌ error: object has no attribute \"magic\"\n",
    "    \n",
    "    # To use it safely, you must check first:\n",
    "    if isinstance(x, int):\n",
    "        print(x + 10)  # ✅ ok\n",
    "    elif isinstance(x, str):\n",
    "        print(x.upper())  # ✅ ok\n"
   ]
  },
  {
   "cell_type": "code",
   "execution_count": 36,
   "id": "639ab4ab",
   "metadata": {},
   "outputs": [],
   "source": [
    "from typing import TypedDict\n",
    "\n",
    "# Define schema\n",
    "class Student(TypedDict):\n",
    "    roll_no: int\n",
    "    name: str\n",
    "    gpa: float\n",
    "\n",
    "# ✅ Correct\n",
    "s1: Student = {\"roll_no\": 101, \"name\": \"Alice\", \"gpa\": 9.1}\n",
    "\n",
    "# ❌ Wrong: missing \"gpa\"\n",
    "s2: Student = {\"roll_no\": 102, \"name\": \"Bob\"}  \n",
    "\n",
    "# ❌ Wrong: wrong type (gpa must be float)\n",
    "s3: Student = {\"roll_no\": 103, \"name\": \"Charlie\", \"gpa\": \"Nine\"}  \n"
   ]
  },
  {
   "cell_type": "code",
   "execution_count": 37,
   "id": "ed03b2f9",
   "metadata": {},
   "outputs": [
    {
     "data": {
      "text/plain": [
       "{'roll_no': 101, 'name': 'Alice', 'gpa': 9.1}"
      ]
     },
     "execution_count": 37,
     "metadata": {},
     "output_type": "execute_result"
    }
   ],
   "source": [
    "s1"
   ]
  },
  {
   "cell_type": "code",
   "execution_count": null,
   "id": "90e01644",
   "metadata": {},
   "outputs": [],
   "source": []
  }
 ],
 "metadata": {
  "kernelspec": {
   "display_name": "Python (myenv)",
   "language": "python",
   "name": "myenv"
  },
  "language_info": {
   "codemirror_mode": {
    "name": "ipython",
    "version": 3
   },
   "file_extension": ".py",
   "mimetype": "text/x-python",
   "name": "python",
   "nbconvert_exporter": "python",
   "pygments_lexer": "ipython3",
   "version": "3.12.3"
  }
 },
 "nbformat": 4,
 "nbformat_minor": 5
}
